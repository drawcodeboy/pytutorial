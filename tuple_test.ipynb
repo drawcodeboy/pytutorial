{
 "cells": [
  {
   "cell_type": "code",
   "execution_count": 1,
   "id": "8bb94a98-4dea-451b-a6c9-a5af82611a73",
   "metadata": {
    "execution": {
     "iopub.execute_input": "2024-03-06T11:03:37.161168Z",
     "iopub.status.busy": "2024-03-06T11:03:37.160169Z",
     "iopub.status.idle": "2024-03-06T11:03:37.173133Z",
     "shell.execute_reply": "2024-03-06T11:03:37.172164Z",
     "shell.execute_reply.started": "2024-03-06T11:03:37.161168Z"
    }
   },
   "outputs": [],
   "source": [
    "li1 = [1, 2, 3, 4]\n",
    "li2 = [5, 6, 7, 8]"
   ]
  },
  {
   "cell_type": "code",
   "execution_count": 2,
   "id": "31245ccc-54ae-4dfa-a0d8-3f135e82a9ee",
   "metadata": {
    "execution": {
     "iopub.execute_input": "2024-03-06T11:03:56.509579Z",
     "iopub.status.busy": "2024-03-06T11:03:56.508583Z",
     "iopub.status.idle": "2024-03-06T11:03:56.519586Z",
     "shell.execute_reply": "2024-03-06T11:03:56.517563Z",
     "shell.execute_reply.started": "2024-03-06T11:03:56.509579Z"
    }
   },
   "outputs": [],
   "source": [
    "tu1 = (1, 2, 3, 4)\n",
    "tu2 = (5, 6, 7, 8)"
   ]
  },
  {
   "cell_type": "code",
   "execution_count": 4,
   "id": "af2ee6f2-46a4-4563-9167-309a8ce7c266",
   "metadata": {
    "execution": {
     "iopub.execute_input": "2024-03-06T11:04:52.778283Z",
     "iopub.status.busy": "2024-03-06T11:04:52.777286Z",
     "iopub.status.idle": "2024-03-06T11:04:52.787261Z",
     "shell.execute_reply": "2024-03-06T11:04:52.786263Z",
     "shell.execute_reply.started": "2024-03-06T11:04:52.778283Z"
    }
   },
   "outputs": [
    {
     "data": {
      "text/plain": [
       "[1, 2, 3, 4, 5, 6, 7, 8]"
      ]
     },
     "execution_count": 4,
     "metadata": {},
     "output_type": "execute_result"
    }
   ],
   "source": [
    "li3 = li1 + li2\n",
    "li3"
   ]
  },
  {
   "cell_type": "code",
   "execution_count": 7,
   "id": "f4db9b5b-afd0-41ff-b13c-0573c432cc54",
   "metadata": {
    "execution": {
     "iopub.execute_input": "2024-03-06T11:07:26.346584Z",
     "iopub.status.busy": "2024-03-06T11:07:26.345588Z",
     "iopub.status.idle": "2024-03-06T11:07:26.354564Z",
     "shell.execute_reply": "2024-03-06T11:07:26.353588Z",
     "shell.execute_reply.started": "2024-03-06T11:07:26.346584Z"
    }
   },
   "outputs": [
    {
     "data": {
      "text/plain": [
       "[1, 2, 3, 4, 1, 2, 3, 4, 1, 2, 3, 4]"
      ]
     },
     "execution_count": 7,
     "metadata": {},
     "output_type": "execute_result"
    }
   ],
   "source": [
    "li4 = li1 * 3\n",
    "li4"
   ]
  },
  {
   "cell_type": "code",
   "execution_count": 8,
   "id": "aa760ee8-fe43-4a65-a015-e02fd8621ead",
   "metadata": {
    "execution": {
     "iopub.execute_input": "2024-03-06T11:07:39.594178Z",
     "iopub.status.busy": "2024-03-06T11:07:39.594178Z",
     "iopub.status.idle": "2024-03-06T11:07:39.604152Z",
     "shell.execute_reply": "2024-03-06T11:07:39.603154Z",
     "shell.execute_reply.started": "2024-03-06T11:07:39.594178Z"
    }
   },
   "outputs": [
    {
     "data": {
      "text/plain": [
       "(1, 2, 3, 4, 5, 6, 7, 8)"
      ]
     },
     "execution_count": 8,
     "metadata": {},
     "output_type": "execute_result"
    }
   ],
   "source": [
    "tu3 = tu1 + tu2\n",
    "tu3"
   ]
  },
  {
   "cell_type": "code",
   "execution_count": 9,
   "id": "906608da-b335-4a78-b639-7e23588d8c19",
   "metadata": {
    "execution": {
     "iopub.execute_input": "2024-03-06T11:07:53.097607Z",
     "iopub.status.busy": "2024-03-06T11:07:53.095581Z",
     "iopub.status.idle": "2024-03-06T11:07:53.106550Z",
     "shell.execute_reply": "2024-03-06T11:07:53.105556Z",
     "shell.execute_reply.started": "2024-03-06T11:07:53.097607Z"
    }
   },
   "outputs": [
    {
     "data": {
      "text/plain": [
       "(1, 2, 3, 4, 1, 2, 3, 4, 1, 2, 3, 4)"
      ]
     },
     "execution_count": 9,
     "metadata": {},
     "output_type": "execute_result"
    }
   ],
   "source": [
    "tu4 = tu1 * 3\n",
    "tu4"
   ]
  },
  {
   "cell_type": "code",
   "execution_count": 10,
   "id": "30cea13e-b6d0-4b21-8b17-6688ba347f99",
   "metadata": {
    "execution": {
     "iopub.execute_input": "2024-03-06T12:45:33.184339Z",
     "iopub.status.busy": "2024-03-06T12:45:33.182343Z",
     "iopub.status.idle": "2024-03-06T12:45:33.993173Z",
     "shell.execute_reply": "2024-03-06T12:45:33.992176Z",
     "shell.execute_reply.started": "2024-03-06T12:45:33.184339Z"
    }
   },
   "outputs": [],
   "source": [
    "dict = {'fruit': 'apple', 'home': 'Pohang'}"
   ]
  },
  {
   "cell_type": "code",
   "execution_count": 16,
   "id": "c013567c-baf0-48cc-9df4-78a7d1eb0143",
   "metadata": {
    "execution": {
     "iopub.execute_input": "2024-03-06T12:46:55.819349Z",
     "iopub.status.busy": "2024-03-06T12:46:55.818351Z",
     "iopub.status.idle": "2024-03-06T12:46:55.830321Z",
     "shell.execute_reply": "2024-03-06T12:46:55.828325Z",
     "shell.execute_reply.started": "2024-03-06T12:46:55.818351Z"
    }
   },
   "outputs": [
    {
     "data": {
      "text/plain": [
       "['fruit', 'home']"
      ]
     },
     "execution_count": 16,
     "metadata": {},
     "output_type": "execute_result"
    }
   ],
   "source": [
    "list(dict.keys())"
   ]
  },
  {
   "cell_type": "code",
   "execution_count": 15,
   "id": "8d943303-2823-4b15-87c6-fa5b7aacec8d",
   "metadata": {
    "execution": {
     "iopub.execute_input": "2024-03-06T12:46:11.127943Z",
     "iopub.status.busy": "2024-03-06T12:46:11.126938Z",
     "iopub.status.idle": "2024-03-06T12:46:11.140899Z",
     "shell.execute_reply": "2024-03-06T12:46:11.137916Z",
     "shell.execute_reply.started": "2024-03-06T12:46:11.127943Z"
    }
   },
   "outputs": [
    {
     "data": {
      "text/plain": [
       "[('fruit', 'apple'), ('home', 'Pohang')]"
      ]
     },
     "execution_count": 15,
     "metadata": {},
     "output_type": "execute_result"
    }
   ],
   "source": [
    "list(dict.items())"
   ]
  },
  {
   "cell_type": "code",
   "execution_count": 18,
   "id": "1bd4e345-c934-4a2e-b03e-5645e9e72cbf",
   "metadata": {
    "execution": {
     "iopub.execute_input": "2024-03-06T12:53:44.490455Z",
     "iopub.status.busy": "2024-03-06T12:53:44.489457Z",
     "iopub.status.idle": "2024-03-06T12:53:44.504418Z",
     "shell.execute_reply": "2024-03-06T12:53:44.501433Z",
     "shell.execute_reply.started": "2024-03-06T12:53:44.490455Z"
    }
   },
   "outputs": [
    {
     "data": {
      "text/plain": [
       "[['fruit', 'apple'], ['home', 'Pohang']]"
      ]
     },
     "execution_count": 18,
     "metadata": {},
     "output_type": "execute_result"
    }
   ],
   "source": [
    "dict_li = [[key, value] for key, value in dict.items()]\n",
    "dict_li"
   ]
  }
 ],
 "metadata": {
  "kernelspec": {
   "display_name": "Python 3 (ipykernel)",
   "language": "python",
   "name": "python3"
  },
  "language_info": {
   "codemirror_mode": {
    "name": "ipython",
    "version": 3
   },
   "file_extension": ".py",
   "mimetype": "text/x-python",
   "name": "python",
   "nbconvert_exporter": "python",
   "pygments_lexer": "ipython3",
   "version": "3.10.9"
  }
 },
 "nbformat": 4,
 "nbformat_minor": 5
}
