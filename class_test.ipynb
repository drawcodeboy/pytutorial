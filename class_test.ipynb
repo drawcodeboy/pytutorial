{
 "cells": [
  {
   "cell_type": "code",
   "execution_count": 1,
   "id": "2b27da31-dbc8-4879-8d97-ae62b1eb67ca",
   "metadata": {
    "execution": {
     "iopub.execute_input": "2024-03-04T06:37:09.419215Z",
     "iopub.status.busy": "2024-03-04T06:37:09.418218Z",
     "iopub.status.idle": "2024-03-04T06:37:09.451129Z",
     "shell.execute_reply": "2024-03-04T06:37:09.448138Z",
     "shell.execute_reply.started": "2024-03-04T06:37:09.419215Z"
    }
   },
   "outputs": [],
   "source": [
    "class User:\n",
    "    def __init__(self, email, password):\n",
    "        self.email = email\n",
    "        self.password = password\n",
    "\n",
    "    @classmethod\n",
    "    def fromTuple(cls, tup):\n",
    "        return cls(tup[0], tup[1])\n",
    "\n",
    "    def printHello():\n",
    "        print('Hello')\n",
    "\n",
    "    @classmethod\n",
    "    def fromDictionary(cls, dic):\n",
    "        return cls(dic['email'], dic['password'])"
   ]
  },
  {
   "cell_type": "code",
   "execution_count": 2,
   "id": "f5e85167-5729-48c6-9722-49a981b8752e",
   "metadata": {
    "execution": {
     "iopub.execute_input": "2024-03-04T06:37:09.456117Z",
     "iopub.status.busy": "2024-03-04T06:37:09.454151Z",
     "iopub.status.idle": "2024-03-04T06:37:09.472087Z",
     "shell.execute_reply": "2024-03-04T06:37:09.467531Z",
     "shell.execute_reply.started": "2024-03-04T06:37:09.456117Z"
    }
   },
   "outputs": [],
   "source": [
    "temp = User.fromTuple(('user@test.com', '1234'))"
   ]
  },
  {
   "cell_type": "code",
   "execution_count": 3,
   "id": "c7b1a5ad-8871-48ee-a11b-42e6444d457a",
   "metadata": {
    "execution": {
     "iopub.execute_input": "2024-03-04T06:37:09.481050Z",
     "iopub.status.busy": "2024-03-04T06:37:09.479090Z",
     "iopub.status.idle": "2024-03-04T06:37:09.500997Z",
     "shell.execute_reply": "2024-03-04T06:37:09.498005Z",
     "shell.execute_reply.started": "2024-03-04T06:37:09.480061Z"
    }
   },
   "outputs": [
    {
     "name": "stdout",
     "output_type": "stream",
     "text": [
      "Hello\n"
     ]
    }
   ],
   "source": [
    "User.printHello()"
   ]
  },
  {
   "cell_type": "code",
   "execution_count": 4,
   "id": "1660cb41-3b5c-41f5-a0c8-00076ae8048e",
   "metadata": {
    "execution": {
     "iopub.execute_input": "2024-03-04T06:38:29.109383Z",
     "iopub.status.busy": "2024-03-04T06:38:29.108388Z",
     "iopub.status.idle": "2024-03-04T06:38:53.319676Z",
     "shell.execute_reply": "2024-03-04T06:38:53.316684Z",
     "shell.execute_reply.started": "2024-03-04T06:38:29.109383Z"
    }
   },
   "outputs": [
    {
     "name": "stdout",
     "output_type": "stream",
     "text": [
      "Collecting argparse\n",
      "  Downloading argparse-1.4.0-py2.py3-none-any.whl (23 kB)\n",
      "Installing collected packages: argparse\n",
      "Successfully installed argparse-1.4.0\n"
     ]
    },
    {
     "name": "stderr",
     "output_type": "stream",
     "text": [
      "WARNING: Ignoring invalid distribution -cipy (c:\\users\\user\\anaconda3\\lib\\site-packages)\n",
      "WARNING: Ignoring invalid distribution -cipy (c:\\users\\user\\anaconda3\\lib\\site-packages)\n",
      "WARNING: Ignoring invalid distribution -cipy (c:\\users\\user\\anaconda3\\lib\\site-packages)\n",
      "WARNING: Ignoring invalid distribution -cipy (c:\\users\\user\\anaconda3\\lib\\site-packages)\n",
      "WARNING: Ignoring invalid distribution -cipy (c:\\users\\user\\anaconda3\\lib\\site-packages)\n",
      "WARNING: Ignoring invalid distribution -cipy (c:\\users\\user\\anaconda3\\lib\\site-packages)\n",
      "WARNING: Ignoring invalid distribution -cipy (c:\\users\\user\\anaconda3\\lib\\site-packages)\n"
     ]
    }
   ],
   "source": [
    "!pip install argparse"
   ]
  }
 ],
 "metadata": {
  "kernelspec": {
   "display_name": "Python 3 (ipykernel)",
   "language": "python",
   "name": "python3"
  },
  "language_info": {
   "codemirror_mode": {
    "name": "ipython",
    "version": 3
   },
   "file_extension": ".py",
   "mimetype": "text/x-python",
   "name": "python",
   "nbconvert_exporter": "python",
   "pygments_lexer": "ipython3",
   "version": "3.10.9"
  }
 },
 "nbformat": 4,
 "nbformat_minor": 5
}
